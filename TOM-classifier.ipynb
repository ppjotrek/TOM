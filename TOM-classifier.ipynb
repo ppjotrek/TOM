{
 "cells": [
  {
   "cell_type": "code",
   "execution_count": 1,
   "id": "49aced12-251b-4dbf-b528-c219e6d9ed7e",
   "metadata": {},
   "outputs": [],
   "source": [
    "import os\n",
    "from skimage.io import imread\n",
    "from skimage.transform import resize\n",
    "import numpy as np\n",
    "from sklearn.model_selection import train_test_split\n",
    "from sklearn.model_selection import GridSearchCV\n",
    "from sklearn.svm import SVC\n",
    "from sklearn.metrics import accuracy_score\n",
    "from sklearn.metrics import confusion_matrix\n",
    "import pandas as pd"
   ]
  },
  {
   "cell_type": "code",
   "execution_count": 2,
   "id": "c34f32c3-33ca-49fb-bc13-3bf7afb3de6a",
   "metadata": {},
   "outputs": [],
   "source": [
    "input_dir = \"C:\\\\Users\\\\Lenovo\\\\Desktop\\\\TOM\\\\CT_manual\\\\test\"\n",
    "categories = ['Homm', 'No_homm']\n",
    "\n",
    "data = []\n",
    "labels = []\n",
    "\n",
    "for category_idx, category in enumerate(categories):\n",
    "    for file in os.listdir(os.path.join(input_dir, category)):\n",
    "        img_path = os.path.join(input_dir, category, file)\n",
    "        img = imread(img_path)\n",
    "        img = resize(img, (128, 128))\n",
    "        data.append(img.flatten())\n",
    "        labels.append(category_idx)\n",
    "        \n",
    "data = np.asarray(data)\n",
    "labels = np.asarray(labels)\n",
    "\n",
    "x_train, x_test, y_train, y_test = train_test_split(data, labels, test_size = 0.2, shuffle = True, stratify = labels)"
   ]
  },
  {
   "cell_type": "code",
   "execution_count": 3,
   "id": "015747df-2df5-4778-a84e-00dccd219c36",
   "metadata": {},
   "outputs": [
    {
     "name": "stdout",
     "output_type": "stream",
     "text": [
      "Best:  {'C': 10, 'gamma': 0.001}\n"
     ]
    }
   ],
   "source": [
    "classifier = SVC()\n",
    "\n",
    "parameters = [{'gamma': [0.1, 0.01, 0.001, 0.0001], 'C': [0.01, 0.001, 0.0001, 0.1, 1, 10, 100]}]\n",
    "\n",
    "grid_search = GridSearchCV(classifier, parameters)\n",
    "\n",
    "grid_search.fit(x_train, y_train)\n",
    "\n",
    "print('Best: ', grid_search.best_params_)"
   ]
  },
  {
   "cell_type": "code",
   "execution_count": 4,
   "id": "c4303e69-8876-447e-9ecf-4a5d346fad42",
   "metadata": {},
   "outputs": [
    {
     "name": "stdout",
     "output_type": "stream",
     "text": [
      "93.66197183098592% of samples were correctly classified\n"
     ]
    }
   ],
   "source": [
    "best_estimator = grid_search.best_estimator_\n",
    "\n",
    "y_prediction = best_estimator.predict(x_test)\n",
    "\n",
    "score = accuracy_score(y_prediction, y_test)\n",
    "\n",
    "print('{}% of samples were correctly classified'.format(str(score*100)))"
   ]
  },
  {
   "cell_type": "code",
   "execution_count": 5,
   "id": "6bf0acc3-24d1-4c90-81ac-b8092280350a",
   "metadata": {},
   "outputs": [
    {
     "name": "stdout",
     "output_type": "stream",
     "text": [
      "Confusion matrix (test)\n",
      "    0   1\n",
      "0  59   5\n",
      "1   4  74\n"
     ]
    }
   ],
   "source": [
    "print('Confusion matrix (test)')\n",
    "labels = np.unique([0, 1])\n",
    "cm = confusion_matrix(y_test, y_prediction)\n",
    "print(pd.DataFrame(cm, index=labels, columns=labels))"
   ]
  },
  {
   "cell_type": "code",
   "execution_count": null,
   "id": "1c44055a-05b8-4f1a-9576-ac0f98d007a1",
   "metadata": {},
   "outputs": [],
   "source": []
  }
 ],
 "metadata": {
  "kernelspec": {
   "display_name": "Python 3 (ipykernel)",
   "language": "python",
   "name": "python3"
  },
  "language_info": {
   "codemirror_mode": {
    "name": "ipython",
    "version": 3
   },
   "file_extension": ".py",
   "mimetype": "text/x-python",
   "name": "python",
   "nbconvert_exporter": "python",
   "pygments_lexer": "ipython3",
   "version": "3.9.13"
  }
 },
 "nbformat": 4,
 "nbformat_minor": 5
}
